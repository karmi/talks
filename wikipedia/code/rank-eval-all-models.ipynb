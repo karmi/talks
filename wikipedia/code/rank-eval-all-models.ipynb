{
 "cells": [
  {
   "cell_type": "code",
   "execution_count": 110,
   "metadata": {},
   "outputs": [],
   "source": [
    "import os\n",
    "import json\n",
    "import yaml\n",
    "\n",
    "import numpy as np\n",
    "import pandas as pd\n",
    "import requests\n",
    "\n",
    "from elasticsearch import Elasticsearch"
   ]
  },
  {
   "cell_type": "code",
   "execution_count": 111,
   "metadata": {},
   "outputs": [],
   "source": [
    "es = Elasticsearch(hosts=\"http://localhost:9200\")"
   ]
  },
  {
   "cell_type": "code",
   "execution_count": 130,
   "metadata": {},
   "outputs": [
    {
     "name": "stdout",
     "output_type": "stream",
     "text": [
      "dict_keys(['e5-small', 'e5-base', 'e5-large', 'e5-instruct', 'minilm', 'seznam-mpnet'])\n"
     ]
    }
   ],
   "source": [
    "with open(\"config.yml\") as f:\n",
    "  config = yaml.safe_load(f)\n",
    "\n",
    "print(config['models'].keys())\n",
    "\n",
    "def _get_index_name(model_name):\n",
    "  alias = config[\"models\"][model_name][\"index_name\"]\n",
    "  return list(es.indices.get_alias(name=alias).keys())[0]\n",
    "\n",
    "# print(_get_index_name('e5-small'))"
   ]
  },
  {
   "cell_type": "code",
   "execution_count": 113,
   "metadata": {},
   "outputs": [],
   "source": [
    "def get_embeddings(model_name, query):\n",
    "    api_url = config[\"models\"][model_name][\"endpoint\"]\n",
    "    api_token = os.getenv(\"INFERENCE_API_TOKEN\")\n",
    "\n",
    "    if \"e5-instruct\" in model_name:\n",
    "        query = f'Instruct: Given a web search query, retrieve relevant passages that answer the query\\nQuery: {query}'\n",
    "    elif \"e5\" in model_name:\n",
    "        query = f\"query: {query}\"\n",
    "\n",
    "    response = requests.post(\n",
    "        api_url,\n",
    "        headers={\"Authorization\": f\"Bearer {api_token}\"} if api_token else {},\n",
    "        params={\"wait_for_model\": True},\n",
    "        json={\"inputs\": query},\n",
    "        timeout=300,\n",
    "    )\n",
    "\n",
    "    if not response.ok:\n",
    "        raise Exception(response.json()[\"error\"])\n",
    "\n",
    "    return np.array(response.json()).flatten().tolist()"
   ]
  },
  {
   "cell_type": "code",
   "execution_count": 114,
   "metadata": {},
   "outputs": [],
   "source": [
    "input_index_name = 'e5-instruct'\n",
    "\n",
    "input_ratings = [\n",
    "  {\"title\": \"Staroměstský orloj\",      \"rating\": 5, \"_id\": \"suUx340Bb3AqLNPefoTf\"},\n",
    "  {\"title\": \"Orloj\",                   \"rating\": 4, \"_id\": \"6-Ux340Bb3AqLNPefoLe\"},\n",
    "  {\"title\": \"Mistr Hanuš\",             \"rating\": 3, \"_id\": \"aegy340Bb3AqLNPeMUWQ\"},\n",
    "  {\"title\": \"Mikuláš z Kadaně\",        \"rating\": 3, \"_id\": \"cecy340Bb3AqLNPeFtSK\"},\n",
    "  {\"title\": \"Staroměstská radnice\",    \"rating\": 2, \"_id\": \"eOUx340Bb3AqLNPem_Ce\"},\n",
    "  {\"title\": \"Staroměstské náměstí\",    \"rating\": 2, \"_id\": \"KeUx340Bb3AqLNPeiKIW\"},\n",
    "  {\"title\": \"Hodinová věž\",            \"rating\": 1, \"_id\": \"BOcy340Bb3AqLNPeELeA\"},\n",
    "  {\"title\": \"Jakub Čech (hodinář)\",    \"rating\": 1, \"_id\": \"peky340Bb3AqLNPefocl\"},\n",
    "  {\"title\": \"Cisiojan\",                \"rating\": 1, \"_id\": \"5eUx340Bb3AqLNPedHIA\"},\n",
    "  {\"title\": \"Brněnský orloj\",          \"rating\": 0, \"_id\": \"oOcy340Bb3AqLNPeFtWK\"},\n",
    "  {\"title\": \"Olomoucký orloj\",         \"rating\": 0, \"_id\": \"XeUx340Bb3AqLNPeiaoE\"},\n",
    "  {\"title\": \"Ostravský orloj\",         \"rating\": 0, \"_id\": \"ouky340Bb3AqLNPegpcZ\"},\n",
    "  {\"title\": \"Pohádkový orloj\",         \"rating\": 0, \"_id\": \"gucx340Bb3AqLNPe_We0\"},\n",
    "  {\"title\": \"Kadaňský orloj\",          \"rating\": 0, \"_id\": \"0eoy340Bb3AqLNPeyo8T\"},\n",
    "  {\"title\": \"Hospodský orloj\",         \"rating\": 0, \"_id\": \"duky340Bb3AqLNPehaSJ\"},\n",
    "  {\"title\": \"Chmelový orloj\",          \"rating\": 0, \"_id\": \"0-wz340Bb3AqLNPeVyP5\"},\n",
    "  {\"title\": \"Ovocný trh (Praha)\",      \"rating\": 0, \"_id\": \"e-cy340Bb3AqLNPeCpVV\"},\n",
    "  {\"title\": \"Nábřeží Maxipsa Fíka\",    \"rating\": 0, \"_id\": \"zuoy340Bb3AqLNPevWUA\"},\n",
    "  {\"title\": \"Seznam gymnázií v Česku\", \"rating\": 0, \"_id\": \"ZOcy340Bb3AqLNPeEsSL\"},\n",
    "  {\"title\": \"Seznam ulic v Praze\",     \"rating\": 0, \"_id\": \"P-wz340Bb3AqLNPetut7\"},]"
   ]
  },
  {
   "cell_type": "code",
   "execution_count": 115,
   "metadata": {},
   "outputs": [],
   "source": [
    "# es.get(index=_get_index_name('e5-instruct'), id=input_ratings[12]['_id'])['_source']['title']\n",
    "# es.search(index=\"wikipedia-search-v5\", q='title:\"Staroměstský orloj\"')"
   ]
  },
  {
   "cell_type": "code",
   "execution_count": 116,
   "metadata": {},
   "outputs": [],
   "source": [
    "output_ratings = {}\n",
    "\n",
    "for model_name in config['models'].keys():\n",
    "  output_ratings[model_name] = []\n",
    "  for item in input_ratings:\n",
    "    doc = es.get(index=_get_index_name(input_index_name), id=item['_id'])\n",
    "\n",
    "    title = doc['_source']['title']\n",
    "    doc_id = es.search(index=_get_index_name(model_name), q=f'title:\"{title}\"')['hits']['hits'][0]['_id']\n",
    "    # print(title, _get_index_name(model_name), doc_id)\n",
    "\n",
    "    rating = {\n",
    "      \"title\": title,\n",
    "      \"rating\": item['rating'],\n",
    "      \"_index\": _get_index_name(model_name),\n",
    "      \"_id\": doc_id,\n",
    "    }\n",
    "    output_ratings[model_name].append(rating)\n",
    "\n",
    "# output_ratings"
   ]
  },
  {
   "cell_type": "code",
   "execution_count": 117,
   "metadata": {},
   "outputs": [],
   "source": [
    "query_lexical = lambda query: {\n",
    "    \"query\": {\n",
    "        \"nested\": {\n",
    "            \"path\": \"parts\",\n",
    "            \"query\": {\n",
    "                \"match\": {\n",
    "                    \"parts.chunk\": query,\n",
    "                },\n",
    "            },\n",
    "        }\n",
    "    },\n",
    "}\n",
    "\n",
    "# query_lexical('foo')"
   ]
  },
  {
   "cell_type": "code",
   "execution_count": 118,
   "metadata": {},
   "outputs": [],
   "source": [
    "query_semantic = lambda model_name, query: {\n",
    "    \"query\": {\n",
    "        \"nested\": {\n",
    "            \"path\": \"parts\",\n",
    "            \"query\": {\n",
    "                \"knn\": {\n",
    "                    \"field\": \"parts.embedding\",\n",
    "                    \"query_vector\": get_embeddings(model_name, query),\n",
    "                    \"num_candidates\": 1000,\n",
    "                }\n",
    "            }\n",
    "        }\n",
    "    },\n",
    "}\n",
    "\n",
    "# query_semantic('e5-small', 'foo')"
   ]
  },
  {
   "cell_type": "code",
   "execution_count": 119,
   "metadata": {},
   "outputs": [],
   "source": [
    "eval_query = \"staroměstský orloj\"\n",
    "eval_size = 10\n",
    "\n",
    "def run_evaluations(client, definitions):\n",
    "    responses = []\n",
    "    for item in definitions:\n",
    "        item = item.copy()\n",
    "        responses.append(\n",
    "            client.rank_eval(\n",
    "                index=item.pop(\"index\"),\n",
    "                metric={\"dcg\": {\"k\": eval_size, \"normalize\": True}},\n",
    "                requests=item,\n",
    "            )\n",
    "        )\n",
    "    return responses"
   ]
  },
  {
   "cell_type": "code",
   "execution_count": 120,
   "metadata": {},
   "outputs": [],
   "source": [
    "definitions = []\n",
    "\n",
    "definitions.append(\n",
    "    {\n",
    "        \"id\": \"lexical\",\n",
    "        \"index\": _get_index_name(\"e5-instruct\"),\n",
    "        \"request\": query_lexical(eval_query),\n",
    "        \"ratings\": [\n",
    "            {\n",
    "                \"_index\": _get_index_name(\"e5-instruct\"),\n",
    "                \"_id\": item[\"_id\"],\n",
    "                \"rating\": item[\"rating\"],\n",
    "            }\n",
    "            for item in input_ratings\n",
    "        ],\n",
    "    }\n",
    ")\n",
    "\n",
    "for model_name, ratings in output_ratings.items():\n",
    "    definitions.append({\n",
    "        \"id\": model_name,\n",
    "        \"index\": _get_index_name(model_name),\n",
    "        \"request\": query_semantic(model_name, eval_query),\n",
    "        \"ratings\": [\n",
    "            {\n",
    "                \"_index\": _get_index_name(model_name),\n",
    "                \"_id\": item[\"_id\"],\n",
    "                \"rating\": item[\"rating\"],\n",
    "            }\n",
    "            for item in output_ratings[model_name]\n",
    "        ]\n",
    "    })\n",
    "\n",
    "# definitions"
   ]
  },
  {
   "cell_type": "code",
   "execution_count": 121,
   "metadata": {},
   "outputs": [],
   "source": [
    "eval_results = [ dict(res) for res in run_evaluations(es, definitions) ]\n",
    "\n",
    "# print(yaml.dump(eval_results[1]['details']))"
   ]
  },
  {
   "cell_type": "code",
   "execution_count": 122,
   "metadata": {},
   "outputs": [
    {
     "name": "stdout",
     "output_type": "stream",
     "text": [
      "                  nDCG@10\n",
      "--------------------------------------------------\n",
      "        lexical   0.16687993983753535\n",
      "       e5-small   0.8768083590039725\n",
      "        e5-base   0.5798168917598391\n",
      "       e5-large   0.8532545915999133\n",
      "    e5-instruct   0.8067346399279625\n",
      "         minilm   0.0\n",
      "   seznam-mpnet   0.0\n"
     ]
    }
   ],
   "source": [
    "print(f\"nDCG@{eval_size}\".rjust(25), '-'*50, sep=\"\\n\")\n",
    "for item in eval_results:\n",
    "  for name, details in item['details'].items():\n",
    "    print(f\"{name:>15}  \", details['metric_score'])"
   ]
  },
  {
   "cell_type": "code",
   "execution_count": 123,
   "metadata": {},
   "outputs": [],
   "source": [
    "for result in eval_results:\n",
    "    for id, res in result['details'].items():\n",
    "        index_name = res['hits'][0]['hit']['_index']\n",
    "        doc_ids = [hit['hit']['_id'] for hit in res['hits']]\n",
    "\n",
    "        docs = es.mget(\n",
    "            index=index_name, ids=doc_ids, source_includes=['title', 'url'], filter_path=['docs._id', 'docs._source']\n",
    "        )['docs']\n",
    "\n",
    "        for i, doc in enumerate(res['hits']): doc.update({\n",
    "            \"title\": docs[i]['_source']['title'],\n",
    "            \"url\": docs[i]['_source']['url'],\n",
    "        })"
   ]
  },
  {
   "cell_type": "code",
   "execution_count": 124,
   "metadata": {},
   "outputs": [],
   "source": [
    "# eval_results[0]['details']"
   ]
  },
  {
   "cell_type": "code",
   "execution_count": 125,
   "metadata": {},
   "outputs": [],
   "source": [
    "results = [\n",
    "  {\n",
    "    \"metric\": metric,\n",
    "    \"metric_name\": f\"nDCG@{eval_size}\",\n",
    "    \"score\": details['metric_score'],\n",
    "    \"hits\": [\n",
    "      {\n",
    "        \"title\": item['title'], \"url\": item['url'],\n",
    "      } for item in details['hits']\n",
    "    ],\n",
    "  } for result in eval_results for metric, details in result['details'].items()\n",
    "]"
   ]
  },
  {
   "cell_type": "code",
   "execution_count": 126,
   "metadata": {},
   "outputs": [],
   "source": [
    "with open(\"tmp/rank_eval_results.json\", \"w+\") as f: json.dump(results, f, ensure_ascii=False, indent=2)"
   ]
  },
  {
   "cell_type": "code",
   "execution_count": 127,
   "metadata": {},
   "outputs": [
    {
     "data": {
      "text/markdown": [
       "+------------------------------------------+-------------------------------+-------------------------------+---------------------------+-------------------------------+----------------------------+---------------------------------------+\n",
       "| e5-small / 0.877                         | e5-large / 0.853              | e5-instruct / 0.807           | e5-base / 0.580           | lexical / 0.167               | minilm / 0.000             | seznam-mpnet / 0.000                  |\n",
       "+==========================================+===============================+===============================+===========================+===============================+============================+=======================================+\n",
       "| Staroměstský orloj                       | Staroměstský orloj            | Staroměstský orloj            | Ovocný trh (Praha)        | Kadaňský orloj                | Ruské kolo                 | Bosiljevo                             |\n",
       "+------------------------------------------+-------------------------------+-------------------------------+---------------------------+-------------------------------+----------------------------+---------------------------------------+\n",
       "| Orloj                                    | Orloj                         | Orloj                         | Staroměstský orloj        | Jakub Čech (hodinář)          | Dlask tlustozobý           | Bělečko                               |\n",
       "+------------------------------------------+-------------------------------+-------------------------------+---------------------------+-------------------------------+----------------------------+---------------------------------------+\n",
       "| Jakub Čech (hodinář)                     | Ovocný trh (Praha)            | Slovenský orloj               | Orloj                     | Pohádkový orloj v Ostravě     | Čečetka tmavá              | Česká Rybná                           |\n",
       "+------------------------------------------+-------------------------------+-------------------------------+---------------------------+-------------------------------+----------------------------+---------------------------------------+\n",
       "| Mistr Hanuš                              | Dům U Bílého orla (Rytířská)  | Dům U Červeného orla (Jilská) | Pohádkový orloj v Ostravě | Chmelový orloj                | Komerční aranžování květin | Oldřiš (rozcestník)                   |\n",
       "+------------------------------------------+-------------------------------+-------------------------------+---------------------------+-------------------------------+----------------------------+---------------------------------------+\n",
       "| Pokojový orloj Jana Maška                | Dům U Červeného orla (Jilská) | Ostravský orloj               | Chmelový orloj            | Jan Táborský z Klokotské Hory | Helheim                    | Seznam budov na Staroměstském náměstí |\n",
       "+------------------------------------------+-------------------------------+-------------------------------+---------------------------+-------------------------------+----------------------------+---------------------------------------+\n",
       "| Slovenský orloj                          | Kadaňský orloj                | Pohádkový orloj v Ostravě     | Křižovnické náměstí       | Orloj                         | Křížová cesta (Žulová)     | Skupice (Postoloprty)                 |\n",
       "+------------------------------------------+-------------------------------+-------------------------------+---------------------------+-------------------------------+----------------------------+---------------------------------------+\n",
       "| Pohádkový orloj v Ostravě                | Mistr Hanuš                   | Stará radnice (Prachatice)    | Očnice                    | Ludvík Hainz                  | NGC 6752                   | Na Perštýně (Praha)                   |\n",
       "+------------------------------------------+-------------------------------+-------------------------------+---------------------------+-------------------------------+----------------------------+---------------------------------------+\n",
       "| Jan Táborský z Klokotské Hory            | Slovenský orloj               | Dům U Bílého orla (Rytířská)  | Slovenský orloj           | Seznam osobností Prahy        | Hyperbola                  | Římskokatolická farnost Vrbice        |\n",
       "+------------------------------------------+-------------------------------+-------------------------------+---------------------------+-------------------------------+----------------------------+---------------------------------------+\n",
       "| Olomoucký orloj                          | Pohádkový orloj v Ostravě     | Jan Táborský z Klokotské Hory | Pokojový orloj Jana Maška | Mistr Hanuš                   | Vratislav Bělík            | Velké Přílepy                         |\n",
       "+------------------------------------------+-------------------------------+-------------------------------+---------------------------+-------------------------------+----------------------------+---------------------------------------+\n",
       "| Chronologie starověkého Blízkého východu | Staré Město (Praha)           | Kadaňský orloj                | Mistr Hanuš               | Cisiojan                      | Paježura Attenboroughova   | Stará Ves (Stará Ves nad Ondřejnicí)  |\n",
       "+------------------------------------------+-------------------------------+-------------------------------+---------------------------+-------------------------------+----------------------------+---------------------------------------+"
      ],
      "text/plain": [
       "<IPython.core.display.Markdown object>"
      ]
     },
     "metadata": {},
     "output_type": "display_data"
    }
   ],
   "source": [
    "results.sort(key=lambda x: x['score'], reverse=True)\n",
    "\n",
    "df = pd.DataFrame(data={\n",
    "  f\"{result['metric']} / {result['score']:.3f}\": [hit['title'] for hit in result['hits'] ] for result in results\n",
    "})\n",
    "\n",
    "from IPython.display import Markdown\n",
    "display(Markdown(df.reset_index(drop=True).to_markdown(index=False,tablefmt=\"grid\")))"
   ]
  },
  {
   "cell_type": "markdown",
   "metadata": {},
   "source": [
    "### Debug"
   ]
  },
  {
   "cell_type": "code",
   "execution_count": 128,
   "metadata": {},
   "outputs": [],
   "source": [
    "# r = run_evaluations(es, definitions[4:5])\n",
    "# print(yaml.dump(r[0].body))"
   ]
  },
  {
   "cell_type": "code",
   "execution_count": 129,
   "metadata": {},
   "outputs": [],
   "source": [
    "# r = es.search(index=\"wikipedia-search-v5\", body=query_semantic('minilm', eval_query), _source_excludes=[\"parts\",\"url\"])\n",
    "# print(yaml.dump(r.body['hits']['hits']))"
   ]
  }
 ],
 "metadata": {
  "kernelspec": {
   "display_name": "Python 3",
   "language": "python",
   "name": "python3"
  },
  "language_info": {
   "codemirror_mode": {
    "name": "ipython",
    "version": 3
   },
   "file_extension": ".py",
   "mimetype": "text/x-python",
   "name": "python",
   "nbconvert_exporter": "python",
   "pygments_lexer": "ipython3",
   "version": "3.11.8"
  }
 },
 "nbformat": 4,
 "nbformat_minor": 2
}
